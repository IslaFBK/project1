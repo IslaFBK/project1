{
 "cells": [
  {
   "cell_type": "code",
   "execution_count": 1,
   "id": "9c4b1e4b",
   "metadata": {},
   "outputs": [
    {
     "name": "stdout",
     "output_type": "stream",
     "text": [
      "当前Brian2后端: cython\n"
     ]
    },
    {
     "name": "stderr",
     "output_type": "stream",
     "text": [
      "INFO       No numerical integration method specified for group 'neurongroup', using method 'exact' (took 0.05s). [brian2.stateupdaters.base.method_choice]\n"
     ]
    },
    {
     "name": "stdout",
     "output_type": "stream",
     "text": [
      "运行成功!\n"
     ]
    }
   ],
   "source": [
    "from brian2 import *\n",
    "prefs.codegen.target = 'cython'  # 强制使用Cython\n",
    "print(\"当前Brian2后端:\", prefs.codegen.target)\n",
    "\n",
    "# 测试一个最小网络\n",
    "start_scope()\n",
    "G = NeuronGroup(10, 'dv/dt = -v/(10*ms) : 1', threshold='v>10', reset='''v=0''')\n",
    "S = Synapses(G, G, 'w : 1', on_pre='v += w')\n",
    "S.connect(condition='i != j')  # 触发Cython编译\n",
    "net = Network(G, S)\n",
    "net.run(1*ms)\n",
    "print(\"运行成功!\")"
   ]
  },
  {
   "cell_type": "code",
   "execution_count": 1,
   "id": "b9e8df90",
   "metadata": {},
   "outputs": [
    {
     "name": "stdout",
     "output_type": "stream",
     "text": [
      "{\n",
      "  \"Compilers\": {\n",
      "    \"c\": {\n",
      "      \"name\": \"msvc\",\n",
      "      \"linker\": \"link\",\n",
      "      \"version\": \"19.29.30156\",\n",
      "      \"commands\": \"cl\"\n",
      "    },\n",
      "    \"cython\": {\n",
      "      \"name\": \"cython\",\n",
      "      \"linker\": \"cython\",\n",
      "      \"version\": \"3.0.11\",\n",
      "      \"commands\": \"cython\"\n",
      "    },\n",
      "    \"c++\": {\n",
      "      \"name\": \"msvc\",\n",
      "      \"linker\": \"link\",\n",
      "      \"version\": \"19.29.30156\",\n",
      "      \"commands\": \"cl\"\n",
      "    }\n",
      "  },\n",
      "  \"Machine Information\": {\n",
      "    \"host\": {\n",
      "      \"cpu\": \"x86_64\",\n",
      "      \"family\": \"x86_64\",\n",
      "      \"endian\": \"little\",\n",
      "      \"system\": \"windows\"\n",
      "    },\n",
      "    \"build\": {\n",
      "      \"cpu\": \"x86_64\",\n",
      "      \"family\": \"x86_64\",\n",
      "      \"endian\": \"little\",\n",
      "      \"system\": \"windows\"\n",
      "    }\n",
      "  },\n",
      "  \"Build Dependencies\": {\n",
      "    \"blas\": {\n",
      "      \"name\": \"scipy-openblas\",\n",
      "      \"found\": true,\n",
      "      \"version\": \"0.3.27\",\n",
      "      \"detection method\": \"pkgconfig\",\n",
      "      \"include directory\": \"C:/Users/runneradmin/AppData/Local/Temp/cibw-run-j8vn_sl2/cp311-win_amd64/build/venv/Lib/site-packages/scipy_openblas64/include\",\n",
      "      \"lib directory\": \"C:/Users/runneradmin/AppData/Local/Temp/cibw-run-j8vn_sl2/cp311-win_amd64/build/venv/Lib/site-packages/scipy_openblas64/lib\",\n",
      "      \"openblas configuration\": \"OpenBLAS 0.3.27  USE64BITINT DYNAMIC_ARCH NO_AFFINITY Haswell MAX_THREADS=24\",\n",
      "      \"pc file directory\": \"D:/a/numpy/numpy/.openblas\"\n",
      "    },\n",
      "    \"lapack\": {\n",
      "      \"name\": \"scipy-openblas\",\n",
      "      \"found\": true,\n",
      "      \"version\": \"0.3.27\",\n",
      "      \"detection method\": \"pkgconfig\",\n",
      "      \"include directory\": \"C:/Users/runneradmin/AppData/Local/Temp/cibw-run-j8vn_sl2/cp311-win_amd64/build/venv/Lib/site-packages/scipy_openblas64/include\",\n",
      "      \"lib directory\": \"C:/Users/runneradmin/AppData/Local/Temp/cibw-run-j8vn_sl2/cp311-win_amd64/build/venv/Lib/site-packages/scipy_openblas64/lib\",\n",
      "      \"openblas configuration\": \"OpenBLAS 0.3.27  USE64BITINT DYNAMIC_ARCH NO_AFFINITY Haswell MAX_THREADS=24\",\n",
      "      \"pc file directory\": \"D:/a/numpy/numpy/.openblas\"\n",
      "    }\n",
      "  },\n",
      "  \"Python Information\": {\n",
      "    \"path\": \"C:\\\\Users\\\\runneradmin\\\\AppData\\\\Local\\\\Temp\\\\build-env-0xvfl3v_\\\\Scripts\\\\python.exe\",\n",
      "    \"version\": \"3.11\"\n",
      "  },\n",
      "  \"SIMD Extensions\": {\n",
      "    \"baseline\": [\n",
      "      \"SSE\",\n",
      "      \"SSE2\",\n",
      "      \"SSE3\"\n",
      "    ],\n",
      "    \"found\": [\n",
      "      \"SSSE3\",\n",
      "      \"SSE41\",\n",
      "      \"POPCNT\",\n",
      "      \"SSE42\",\n",
      "      \"AVX\",\n",
      "      \"F16C\",\n",
      "      \"FMA3\",\n",
      "      \"AVX2\"\n",
      "    ],\n",
      "    \"not found\": [\n",
      "      \"AVX512F\",\n",
      "      \"AVX512CD\",\n",
      "      \"AVX512_SKX\",\n",
      "      \"AVX512_CLX\",\n",
      "      \"AVX512_CNL\",\n",
      "      \"AVX512_ICL\"\n",
      "    ]\n",
      "  }\n",
      "}\n"
     ]
    },
    {
     "name": "stderr",
     "output_type": "stream",
     "text": [
      "f:\\ljn\\project1\\.venv\\Lib\\site-packages\\numpy\\__config__.py:155: UserWarning: Install `pyyaml` for better output\n",
      "  warnings.warn(\"Install `pyyaml` for better output\", stacklevel=1)\n"
     ]
    }
   ],
   "source": [
    "import numpy as np\n",
    "np.__config__.show()"
   ]
  }
 ],
 "metadata": {
  "kernelspec": {
   "display_name": "Python 3",
   "language": "python",
   "name": "python3"
  },
  "language_info": {
   "codemirror_mode": {
    "name": "ipython",
    "version": 3
   },
   "file_extension": ".py",
   "mimetype": "text/x-python",
   "name": "python",
   "nbconvert_exporter": "python",
   "pygments_lexer": "ipython3",
   "version": "3.11.7"
  }
 },
 "nbformat": 4,
 "nbformat_minor": 5
}
